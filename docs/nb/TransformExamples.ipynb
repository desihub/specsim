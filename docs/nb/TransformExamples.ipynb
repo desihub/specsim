{
 "cells": [
  {
   "cell_type": "markdown",
   "metadata": {},
   "source": [
    "# Transform Examples"
   ]
  },
  {
   "cell_type": "markdown",
   "metadata": {},
   "source": [
    "Examples to demonstrate the `specsim.transform` module documented [here](http://specsim.readthedocs.io/en/latest/api.html#module-specsim.transform)."
   ]
  },
  {
   "cell_type": "code",
   "execution_count": 1,
   "metadata": {},
   "outputs": [
    {
     "name": "stdout",
     "output_type": "stream",
     "text": [
      "Populating the interactive namespace from numpy and matplotlib\n"
     ]
    }
   ],
   "source": [
    "%pylab inline"
   ]
  },
  {
   "cell_type": "code",
   "execution_count": 2,
   "metadata": {},
   "outputs": [],
   "source": [
    "import astropy.units as u\n",
    "import astropy.time\n",
    "import astropy.coordinates\n",
    "import astropy.table"
   ]
  },
  {
   "cell_type": "code",
   "execution_count": 3,
   "metadata": {},
   "outputs": [
    {
     "name": "stdout",
     "output_type": "stream",
     "text": [
      "0.12dev764.dev728\n"
     ]
    }
   ],
   "source": [
    "import specsim\n",
    "print(specsim.__version__)\n",
    "from specsim.transform import create_observing_model, sky_to_altaz, altaz_to_sky"
   ]
  },
  {
   "cell_type": "markdown",
   "metadata": {},
   "source": [
    "## Atmospheric Refraction Model"
   ]
  },
  {
   "cell_type": "markdown",
   "metadata": {},
   "source": [
    "Set default observing model parameters:"
   ]
  },
  {
   "cell_type": "code",
   "execution_count": 4,
   "metadata": {},
   "outputs": [],
   "source": [
    "where = specsim.transform.observatories['KPNO']\n",
    "when = astropy.time.Time(56383, format='mjd')\n",
    "wlen = 5400 * u.Angstrom\n",
    "temperature = 5 * u.deg_C\n",
    "pressure = 800 * u.kPa\n",
    "default_model = specsim.transform.create_observing_model(where=where, when=when,\n",
    "    wavelength=wlen, temperature=temperature, pressure=pressure)"
   ]
  },
  {
   "cell_type": "markdown",
   "metadata": {},
   "source": [
    "Calculate the round trip accuracy as a function of altitude:"
   ]
  },
  {
   "cell_type": "code",
   "execution_count": 5,
   "metadata": {},
   "outputs": [],
   "source": [
    "alt_in = np.linspace(10., 89., 80) * u.deg\n",
    "az_in = 90 * u.deg\n",
    "roundtrip_sky = altaz_to_sky(alt_in, az_in, default_model)\n",
    "altaz_out = sky_to_altaz(roundtrip_sky, default_model)"
   ]
  },
  {
   "cell_type": "code",
   "execution_count": 6,
   "metadata": {
    "scrolled": true
   },
   "outputs": [
    {
     "data": {
      "image/png": "[encoded data removed]",
      "text/plain": [
       "<matplotlib.figure.Figure at 0x11fb7bf60>"
      ]
     },
     "metadata": {},
     "output_type": "display_data"
    }
   ],
   "source": [
    "plt.plot(alt_in.to(u.deg).value, np.abs((altaz_out.alt - alt_in).to(u.arcsec).value), label='Altitude Error')\n",
    "plt.plot(alt_in.to(u.deg).value, np.abs((altaz_out.az - az_in).to(u.arcsec).value), label='Azimuth Error')\n",
    "plt.legend()\n",
    "plt.xlabel('Altitude (deg)')\n",
    "plt.ylabel('Round trip absolute error (arcsec)')\n",
    "plt.yscale('log')\n",
    "plt.grid()"
   ]
  },
  {
   "cell_type": "markdown",
   "metadata": {},
   "source": [
    "Print a table of round-trip errors suitable for pasting into a docstring:"
   ]
  },
  {
   "cell_type": "code",
   "execution_count": 7,
   "metadata": {},
   "outputs": [
    {
     "name": "stdout",
     "output_type": "stream",
     "text": [
      "Altitude (deg) Error (arcsec)\n",
      "============== ==============\n",
      "          10.0        -15.175\n",
      "          15.0         -1.891\n",
      "          20.0         -0.425\n",
      "          25.0         -0.130\n",
      "          30.0         -0.048\n",
      "          35.0         -0.020\n",
      "          40.0         -0.009\n",
      "          45.0         -0.004\n"
     ]
    }
   ],
   "source": [
    "errors_table = astropy.table.Table([\n",
    "        astropy.table.Column(name='Altitude (deg)', data=alt_in[:40:5].to(u.deg)),\n",
    "        astropy.table.Column(name='Error (arcsec)', data=(altaz_out.alt - alt_in)[:40:5].to(u.arcsec), format='.3f')\n",
    "    ])\n",
    "astropy.io.ascii.write(errors_table, format='fixed_width_two_line', position_char='=')"
   ]
  },
  {
   "cell_type": "code",
   "execution_count": null,
   "metadata": {},
   "outputs": [],
   "source": []
  }
 ],
 "metadata": {
  "kernelspec": {
   "display_name": "Python [conda env:desi]",
   "language": "python",
   "name": "conda-env-desi-py"
  },
  "language_info": {
   "codemirror_mode": {
    "name": "ipython",
    "version": 3
   },
   "file_extension": ".py",
   "mimetype": "text/x-python",
   "name": "python",
   "nbconvert_exporter": "python",
   "pygments_lexer": "ipython3",
   "version": "3.6.5"
  }
 },
 "nbformat": 4,
 "nbformat_minor": 1
}
